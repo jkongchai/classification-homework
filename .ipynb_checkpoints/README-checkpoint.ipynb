{
 "cells": [
  {
   "cell_type": "markdown",
   "metadata": {},
   "source": [
    "# Ensemble Learning\n",
    "- When running the Balanced Random Forest Classifier, the best accuracy score is 0.81.\n",
    "- The balanced Random Forest Classifier has a precision average of 0.99, a recall score of 0.92, and a geometric mean of 0.80.\n",
    "- Based on this classifier, the top 3 important features are total_rec_prncp, total_pymnt, and total_pymnt_inv.\n",
    "- When running with the Easy Ensemble Classifier the best accuracy score was 0.93.\n",
    "- The East Ensemble Classifier has a precision average of 0.99, a recall score of 0.94, and a geometric mean of 0.93."
   ]
  },
  {
   "cell_type": "markdown",
   "metadata": {},
   "source": [
    "# Credit Risk Resampling Techniques\n",
    "- When running Simple Logistic Regression, the best accuracy score is 0.93.\n",
    "- The Simple Logistic Regression has a precision average of 0.99, a recall score of 0.99, and a geometric mean of 0.93.\n",
    "\n",
    "- When running Naive Random Oversampling, the best accuracy score is 0.99.\n",
    "- The Naive Random Oversampling has a precision average of 0.99, a recall score of 0.99, and a geometric mean of 0.99.\n",
    "\n",
    "- When running SMOTE Oversampling, the best accuracy score is 0.99.\n",
    "- The SMOTE Oversampling has a precision average of 0.99, a recall score of 0.99, and a geometric mean of 0.99.\n",
    "\n",
    "- When running ClusterCentroids Resampler, the best accuracy score is 0.98.\n",
    "- The ClusterCentroids Resampler has a precision average of 0.99, a recall score of 0.99, and a geometric mean of 0.98.\n",
    "\n",
    "- When running SMOTEENN, the best accuracy score is 0.99.\n",
    "- The SMOTEENN Oversampling has a precision average of 0.99, a recall score of 0.99, and a geometric mean of 0.99."
   ]
  }
 ],
 "metadata": {
  "kernelspec": {
   "display_name": "Python 3",
   "language": "python",
   "name": "python3"
  },
  "language_info": {
   "codemirror_mode": {
    "name": "ipython",
    "version": 3
   },
   "file_extension": ".py",
   "mimetype": "text/x-python",
   "name": "python",
   "nbconvert_exporter": "python",
   "pygments_lexer": "ipython3",
   "version": "3.7.9"
  }
 },
 "nbformat": 4,
 "nbformat_minor": 4
}
